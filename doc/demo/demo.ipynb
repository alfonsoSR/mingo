{
 "cells": [
  {
   "cell_type": "markdown",
   "metadata": {},
   "source": [
    "# Demo program using mingo"
   ]
  },
  {
   "cell_type": "code",
   "execution_count": null,
   "metadata": {},
   "outputs": [],
   "source": [
    "from mingo import Database, Hit_distribution\n",
    "from pathlib import Path"
   ]
  },
  {
   "attachments": {},
   "cell_type": "markdown",
   "metadata": {},
   "source": [
    "### Create a new database or load an existing one\n",
    "\n",
    "The basic element of the package is the `Database` object, which allows you to load, create, delete, fill, read and modify a database with simulation results.\n",
    "\n",
    "The constructor of `Database` --the code that is executed when you create a new object of this class-- starts by looking for a MariaDB database with the given name, `demo` in this case. If the database exists, it will get loaded and, if it does not, the program will ask for permission to create it."
   ]
  },
  {
   "cell_type": "code",
   "execution_count": null,
   "metadata": {},
   "outputs": [],
   "source": [
    "db = Database(database=\"demo\", use_cnf=True, cnf_path=\"~/.my.cnf\")"
   ]
  },
  {
   "attachments": {},
   "cell_type": "markdown",
   "metadata": {},
   "source": [
    "There are two ways to initialize a `Database` object: by using a default configuration file or by passing the username, password, host... manually. Whether to use one method or the other is specified via the `use_cnf` param which, by default, is set to True."
   ]
  },
  {
   "attachments": {},
   "cell_type": "markdown",
   "metadata": {},
   "source": [
    "### Fill the database from data files\n",
    "\n",
    "Once you have created a `Database` object, you can use the `fill` and `batch_fill` methods to fill the database using data files. The expected format of the data files is specified in `docs/header-configuration.txt`.\n",
    "\n",
    "The `fill` method takes the path of a data file as input and tries to fill the database with its contents. A message is printed to indicate that the operation is happening.\n",
    "\n",
    "The `batch_fill` method allows you to pass multiple source files at once, either as a list of paths to individual data files or as the path to a directory with many data files. In this example, we use `batch_fill` to fill the `demo` database with all the files inside the `doc/demo/sources` directory."
   ]
  },
  {
   "cell_type": "code",
   "execution_count": null,
   "metadata": {},
   "outputs": [],
   "source": [
    "source_path = Path(\"sources\")\n",
    "db.batch_fill(source_path)"
   ]
  },
  {
   "attachments": {},
   "cell_type": "markdown",
   "metadata": {},
   "source": [
    "### Find the ID of plane and detector configurations\n",
    "\n",
    "Now that the database is ready, there are two ways to read information from it: via methods of the `Database` object or via sql queries using sqlalchemy.\n",
    "\n",
    "The `Database` object's methods can be used to read certain information with ease, such as the ID of a given plane configuration --more about this in a second. On the other hand, sqlalchemy's queries give you freedom to access all the data in the database at the expense of having to write the queries by yourself. In this demo, I will focus on the first approach, in particular, on the `get_plane_id` and `get_config_id` methods.\n",
    "\n",
    "Each MiniTrasgo consists on a set of four active planes which may, or may not be preceeded by an absorption plane. Each possible combination of an active and an absorption plane is a 'configuration' (for example: an active plane of 999 x 999 x 22 mm with a lead absorption plane of 10.4 mm placed 22 mm below the first active plane) and, in the database, each configuration is identified by an unique ID.\n",
    "\n",
    "The `get_plane_id` method allows you to find the ID of a given plane configuration."
   ]
  },
  {
   "cell_type": "code",
   "execution_count": null,
   "metadata": {},
   "outputs": [],
   "source": [
    "plane_id = db.get_plane_id(999, 999, 22, 22, \"Pb\", 10.4)"
   ]
  },
  {
   "attachments": {},
   "cell_type": "markdown",
   "metadata": {},
   "source": [
    "Likewise, each possible combination of plane configurations is a 'detector configuration', for example:\n",
    " - First plane (z = 0 mm): No absorption plane.\n",
    " - Second plane (z = 100 mm): Lead absorption plane of 10.4 mm at z = 22 mm.\n",
    " - Third plane (z = 200 mm): No absorption plane.\n",
    " - Fourth plane (z = 400 mm): Lead absorption plane of 16.2 mm at z = 222 mm.\n",
    "\n",
    "You can find the ID of each of these plane configurations with the `get_plane_id` method. For the `demo` database, they are (1, 2, 1, 3).\n",
    "\n",
    "You can now use the `get_config_id` method to find the ID of the detector configuration matching the aforementioned settings."
   ]
  },
  {
   "cell_type": "code",
   "execution_count": null,
   "metadata": {},
   "outputs": [],
   "source": [
    "detector_id = db.get_config_id((1, 2, 1, 3), (0, 100, 200, 400))"
   ]
  },
  {
   "attachments": {},
   "cell_type": "markdown",
   "metadata": {},
   "source": [
    "### Analize the distribution of hits per event as a function of initial energy\n",
    "\n",
    "Mingo includes some classes that allow to analyze certain properties of the simulation results with ease.\n",
    "\n",
    "`Hit_distribution` can be used to analyze the relation between the number of hits per event and the energy of the primary cosmic ray. You initialize it with the `Database` object."
   ]
  },
  {
   "cell_type": "code",
   "execution_count": null,
   "metadata": {},
   "outputs": [],
   "source": [
    "hits = Hit_distribution(db)"
   ]
  },
  {
   "attachments": {},
   "cell_type": "markdown",
   "metadata": {},
   "source": [
    "The `__call__` method --the function that is executed when you run `hits()`-- finds the distribution of hits per event and calculates some of its statistical properties.\n",
    "\n",
    "The results are saved as properties of the `hits` object and can be accesed by calling `hits.dist_data` and `hits.stats_data` respectively."
   ]
  },
  {
   "cell_type": "code",
   "execution_count": null,
   "metadata": {},
   "outputs": [],
   "source": [
    "hits(detector_id, \"NULL - 10.4 - NULL - 16.2\")"
   ]
  },
  {
   "attachments": {},
   "cell_type": "markdown",
   "metadata": {},
   "source": [
    "Once calculated, the `plot_distribution` and `plot_stats` methods allow you to plot the results with an adequate format."
   ]
  },
  {
   "cell_type": "code",
   "execution_count": null,
   "metadata": {},
   "outputs": [],
   "source": [
    "hit_dist = hits.plot_distribution()\n",
    "hit_stats = hits.plot_stats()"
   ]
  },
  {
   "attachments": {},
   "cell_type": "markdown",
   "metadata": {},
   "source": [
    "### Cleanup\n",
    "\n",
    "You can now eliminate the `demo` database from your MariaDB server by calling the `drop` method of your database object. "
   ]
  },
  {
   "cell_type": "code",
   "execution_count": null,
   "metadata": {},
   "outputs": [],
   "source": [
    "db.drop()"
   ]
  }
 ],
 "metadata": {
  "kernelspec": {
   "display_name": "Python 3 (ipykernel)",
   "language": "python",
   "name": "python3"
  },
  "language_info": {
   "codemirror_mode": {
    "name": "ipython",
    "version": 3
   },
   "file_extension": ".py",
   "mimetype": "text/x-python",
   "name": "python",
   "nbconvert_exporter": "python",
   "pygments_lexer": "ipython3",
   "version": "3.11.3"
  }
 },
 "nbformat": 4,
 "nbformat_minor": 2
}
