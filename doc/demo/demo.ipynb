{
 "cells": [
  {
   "attachments": {},
   "cell_type": "markdown",
   "metadata": {},
   "source": [
    "# Generating reports with mingo\n",
    "\n",
    "The following demo presents a simple program that creates a new database, fills it with the datafiles in `./sources` and generates a report with the data it contains.\n",
    "\n",
    "Though this program only has a couple of lines of code, it does a lot of things under the hood, so it may take around 7 minutes to execute."
   ]
  },
  {
   "attachments": {},
   "cell_type": "markdown",
   "metadata": {},
   "source": [
    "## Import required functions\n",
    "\n",
    "You will only need to import `Database` and `report` for this demo.\n",
    "\n",
    "- `Database` is a class used to create, fill and delete databases.\n",
    "- `report` is a function used to generate a PDF report from the data contained in the database."
   ]
  },
  {
   "cell_type": "code",
   "execution_count": null,
   "metadata": {},
   "outputs": [],
   "source": [
    "from mingo import Database, report"
   ]
  },
  {
   "attachments": {},
   "cell_type": "markdown",
   "metadata": {},
   "source": [
    "## Create empty database\n",
    "\n",
    "The first step is to create a new database, which we will call `demo`. This action is performed by the constructor of `Database` --i.e. the function that is called when you initialize an object of `Database` class.\n",
    "\n",
    "Aside from the name of the database, the constructor needs some information about the mariadb user and server in order to create it. The easiest way to provide this information is to create a MariaDB [option file](https://mariadb.com/kb/en/configuring-mariadb-with-option-files/#example-minimal-option-file) and to pass its path to the constructor via the `cnf_path` argument, which is set to `~/.my.cnf` by default."
   ]
  },
  {
   "cell_type": "code",
   "execution_count": null,
   "metadata": {},
   "outputs": [],
   "source": [
    "db = Database(\"demo\", cnf_path=\"~/.my.cnf\")"
   ]
  },
  {
   "attachments": {},
   "cell_type": "markdown",
   "metadata": {},
   "source": [
    "If you prefer to avoid option files, you can still pass the required information to the constructor via keyword arguments. You can get the constructor's argument list by hovering over the word `Database` in the previous cell or by executing `print(Database.__doc__)`."
   ]
  },
  {
   "attachments": {},
   "cell_type": "markdown",
   "metadata": {},
   "source": [
    "## Fill the database using data files\n",
    "\n",
    "The `fill` method of the `Database` class can be used to read data files and insert their data in the database.\n",
    "\n",
    "Fill may behave differently depending on the type of its argument:\n",
    "\n",
    "- Path to file: Read data from file and add it to database.\n",
    "- Path to directory: Look for data files inside it and repeat previous process.\n",
    "- Sequence of paths: Perform one of the mentioned actions for each path.\n",
    "\n",
    "If a directory contains other directories, `fill` will also look inside them.\n",
    "\n",
    "Files that are not data files will be skipped by the function.\n"
   ]
  },
  {
   "cell_type": "code",
   "execution_count": null,
   "metadata": {},
   "outputs": [],
   "source": [
    "db.fill(\"./sources\")"
   ]
  },
  {
   "attachments": {},
   "cell_type": "markdown",
   "metadata": {},
   "source": [
    "## Generate a PDF report\n",
    "\n",
    "Now that our database contains data, we will use the `report` function to generate a PDF report with the following information:\n",
    "\n",
    "- Number of hits per event as function of initial energy\n",
    "- Average depth of the electromagnetic shower as function of initial energy\n",
    "- Number of hits per plane as a function of initial energy\n",
    "- Average distance between the hits and the center of each active plane as a function of initial energy\n",
    "\n",
    "The function takes the `Database` object associated with our database and the path of the PDF that will be generated."
   ]
  },
  {
   "cell_type": "code",
   "execution_count": null,
   "metadata": {},
   "outputs": [],
   "source": [
    "report(db, \"demo-report.pdf\")"
   ]
  },
  {
   "attachments": {},
   "cell_type": "markdown",
   "metadata": {},
   "source": [
    "You should now find a file called `demo-report.pdf` inside `doc/demo`. As you can see, each page of the report contains a plot and a table with statistical properties of the specific data that is being plotted.\n",
    "\n",
    "You can now use the `drop` method of `Database` to delete the `demo` database from your computer if you don't want to keep it.\n"
   ]
  },
  {
   "cell_type": "code",
   "execution_count": null,
   "metadata": {},
   "outputs": [],
   "source": [
    "db.drop()"
   ]
  },
  {
   "attachments": {},
   "cell_type": "markdown",
   "metadata": {},
   "source": [
    "And that's it! You now know how you to create a MariaDB database and a PDF report from a set of source files using `mingo`."
   ]
  }
 ],
 "metadata": {
  "kernelspec": {
   "display_name": "mingo-venv",
   "language": "python",
   "name": "python3"
  },
  "language_info": {
   "codemirror_mode": {
    "name": "ipython",
    "version": 3
   },
   "file_extension": ".py",
   "mimetype": "text/x-python",
   "name": "python",
   "nbconvert_exporter": "python",
   "pygments_lexer": "ipython3",
   "version": "3.11.3"
  },
  "orig_nbformat": 4
 },
 "nbformat": 4,
 "nbformat_minor": 2
}
